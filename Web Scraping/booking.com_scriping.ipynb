{
 "cells": [
  {
   "cell_type": "code",
   "execution_count": null,
   "id": "e5e649cb",
   "metadata": {},
   "outputs": [],
   "source": [
    "# 寫入需要之套件\n",
    "from selenium import webdriver\n",
    "from bs4 import BeautifulSoup as Soup\n",
    "import time\n",
    "from selenium.webdriver.common.by import By"
   ]
  },
  {
   "cell_type": "code",
   "execution_count": null,
   "id": "217d539b",
   "metadata": {},
   "outputs": [],
   "source": [
    "# 寫入函數,抓取網頁中所有搜尋結果的連結,並存入location_list中\n",
    "\n",
    "def scripe(classes, url):\n",
    "    browser = webdriver.Chrome()\n",
    "    browser.get(url)\n",
    "    n_scroll = 2\n",
    "    post_url = []\n",
    "    for i in range(n_scroll):\n",
    "        scroll = 'window.scrollTo(0, document.body.scrollHeight);'\n",
    "        browser.execute_script(scroll)\n",
    "        html = browser.page_source\n",
    "        soup = Soup(html, 'lxml')\n",
    "        time.sleep(2)\n",
    "    location_list = []\n",
    "    location = browser.find_elements(By.CLASS_NAME, classes)\n",
    "    for i in location:\n",
    "        location_list.append(i.text)\n",
    "    return location_list\n",
    "# 提取函數輸出之結果scripe(\"網頁元素代碼\", \"欲搜尋之網址\")\n",
    "'''\n",
    "網址取得方法:\n",
    "先在Booking.com的網頁上依序搜尋Queens/ Brooklyn/ The Bronx/ Manhattan/ Staten Island,\n",
    "再一一複製這些搜尋結果頁面的網址,\n",
    "接著一一放進scripe函數的第二個輸入值位置。(此段程式碼以The Broxn為例)\n",
    "另外,網頁元素位置固定而無需更改網頁元素代碼。\n",
    "'''\n",
    "location_list = scripe(\"d20f4628d0\", \"https://www.booking.com/searchresults.en-gb.html?ss=Bronx&ssne=Bronx&ssne_untouched=Bronx&highlighted_hotels=5157171&label=the-bronx-H8DUkP4sS4ArRPPFhx7A1QS625091247562%3Apl%3Ata%3Ap1%3Ap2%3Aac%3Aap%3Aneg%3Afi%3Atiaud-297601666555%3Akwd-26233280143%3Alp1012825%3Ali%3Adec%3Adm%3Appccp%3DUmFuZG9tSVYkc2RlIyh9YboIMJYQAPicrzwdxpGM5o8&sid=17b9b54f35b563a5dc8eaac5912b73e9&aid=311984&lang=en-gb&sb=1&src_elem=sb&src=searchresults&dest_id=20085196&dest_type=city&checkin=2023-07-03&checkout=2023-07-04&ltfd=1%3A1%3A7-2023%3A1&group_adults=1&no_rooms=1&group_children=0&sb_travel_purpose=leisure\""
   ]
  },
  {
   "cell_type": "code",
   "execution_count": null,
   "id": "56c43bd8",
   "metadata": {},
   "outputs": [],
   "source": [
    "# 把抓取到之元素分割成list\"location_classification\"中不同的元素\n",
    "symbol = [\"\\n\", \"·\"]\n",
    "location_classification = []\n",
    "str = \"\"\n",
    "for i in range(len(location_list)):\n",
    "    location_classification.append([])\n",
    "    for j in location_list[i]:\n",
    "        if j not in symbol:\n",
    "            str += j\n",
    "        else:\n",
    "            location_classification[i].append(str)\n",
    "            str = \"\""
   ]
  },
  {
   "cell_type": "code",
   "execution_count": null,
   "id": "40241fb0",
   "metadata": {},
   "outputs": [],
   "source": [
    "# 把location_classification的輸出結果寫入Excel中\n",
    "\n",
    "import openpyxl\n",
    "from openpyxl.styles import Font\n",
    "from openpyxl.workbook import Workbook\n",
    "my_wb = openpyxl.Workbook()\n",
    "my_sheet = my_wb.active\n",
    "\n",
    "for i in range(len(location_classification)):\n",
    "    for j in range(1, len(location_classification[i])):\n",
    "        if j == 1:\n",
    "            cell = \"i + 1\" + \"A\"\n",
    "        else:\n",
    "            cell = \"i + 1\" + \"B\"\n",
    "        cell = my_sheet.cell(row = i + 1, column = j)\n",
    "        cell.value = location_classification[i][j - 1]\n",
    "\n",
    "my_wb.save(\"thebronxhotel.xlsx\")\n",
    "# 後續再根據演算法需求提取資料"
   ]
  }
 ],
 "metadata": {
  "kernelspec": {
   "display_name": "Python 3 (ipykernel)",
   "language": "python",
   "name": "python3"
  },
  "language_info": {
   "codemirror_mode": {
    "name": "ipython",
    "version": 3
   },
   "file_extension": ".py",
   "mimetype": "text/x-python",
   "name": "python",
   "nbconvert_exporter": "python",
   "pygments_lexer": "ipython3",
   "version": "3.10.9"
  }
 },
 "nbformat": 4,
 "nbformat_minor": 5
}
